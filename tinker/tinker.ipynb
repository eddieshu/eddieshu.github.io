{
 "cells": [
  {
   "cell_type": "code",
   "execution_count": 5,
   "metadata": {},
   "outputs": [],
   "source": [
    "import tkinter as tk\n",
    "import random\n",
    "\n",
    "w=0\n",
    "t=0\n",
    "l=0\n",
    "def wintime():\n",
    "    times_1['text']='win:',w,'lose:',l,'tie:',t\n",
    "def button_event():\n",
    "    global w\n",
    "    global l\n",
    "    global t\n",
    "    \n",
    "    list_1=['rock','paper','scissors']\n",
    "    \n",
    "    player=int(en_1.get())\n",
    "    npc=random.randint(0,2)\n",
    "    \n",
    "    la_player['text']='player:'+list_1[player]\n",
    "    la_npc['text']='npc:'+list_1[npc]\n",
    "    \n",
    "    if player==npc:\n",
    "        la_game['text']='Tie'\n",
    "        t+=1\n",
    "    elif player==0 and npc==2:\n",
    "        la_game['text']='Win'\n",
    "        w+=1\n",
    "    elif player==1 and npc==0:\n",
    "        la_game['text']='Win'\n",
    "        w+=1\n",
    "    elif player==2 and npc==1:\n",
    "        la_game['text']='Win'\n",
    "        w+=1\n",
    "    else:\n",
    "        la_game['text']='Lose'\n",
    "        l+=1\n",
    "    \n",
    "window=tk.Tk()\n",
    "window.title(\"Hello\")\n",
    "window.geometry('600x600')\n",
    "    \n",
    "la_player=tk.Label(window,text='player:')\n",
    "la_player.place(x=200,y=180)\n",
    "    \n",
    "la_npc=tk.Label(window,text='npc:')\n",
    "la_npc.place(x=200,y=200)\n",
    "\n",
    "la_game=tk.Label(window,text='game')\n",
    "la_game.place(x=200,y=220)\n",
    "\n",
    "    \n",
    "bu_1=tk.Button(window,text='AAA',command=button_event)\n",
    "bu_1.place(x=200,y=150)\n",
    "    \n",
    "en_1=tk.Entry()\n",
    "en_1.place(x=200,y=100)\n",
    "    \n",
    "la_title=tk.Label(window,text='rock:0 paper:1 scissors:2')\n",
    "la_title.place(x=200,y=70)\n",
    "\n",
    "bu_1=tk.Button(window,text='Show',command=wintime)\n",
    "bu_1.place(x=200,y=290)\n",
    "\n",
    "times_1=tk.Label(window,text='times:')\n",
    "times_1.place(x=200,y=270)\n",
    "    \n",
    "window.mainloop()"
   ]
  }
 ],
 "metadata": {
  "kernelspec": {
   "display_name": "base",
   "language": "python",
   "name": "python3"
  },
  "language_info": {
   "codemirror_mode": {
    "name": "ipython",
    "version": 3
   },
   "file_extension": ".py",
   "mimetype": "text/x-python",
   "name": "python",
   "nbconvert_exporter": "python",
   "pygments_lexer": "ipython3",
   "version": "3.9.12 (main, Jun  1 2022, 06:34:44) \n[Clang 12.0.0 ]"
  },
  "orig_nbformat": 4,
  "vscode": {
   "interpreter": {
    "hash": "218c18803713b1938ae7f4627108fbf5189898301ef09134fc663473a33ca261"
   }
  }
 },
 "nbformat": 4,
 "nbformat_minor": 2
}
